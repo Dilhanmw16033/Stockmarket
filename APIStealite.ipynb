{
  "nbformat": 4,
  "nbformat_minor": 0,
  "metadata": {
    "colab": {
      "name": "APIStealite.ipynb",
      "provenance": [],
      "collapsed_sections": [],
      "include_colab_link": true
    },
    "kernelspec": {
      "name": "python3",
      "display_name": "Python 3"
    },
    "language_info": {
      "name": "python"
    }
  },
  "cells": [
    {
      "cell_type": "markdown",
      "metadata": {
        "id": "view-in-github",
        "colab_type": "text"
      },
      "source": [
        "<a href=\"https://colab.research.google.com/github/Dilhanmw16033/Stockmarket/blob/main/APIStealite.ipynb\" target=\"_parent\"><img src=\"https://colab.research.google.com/assets/colab-badge.svg\" alt=\"Open In Colab\"/></a>"
      ]
    },
    {
      "cell_type": "code",
      "source": [
        "from google.colab import drive\n",
        "drive.mount('/content/drive')"
      ],
      "metadata": {
        "colab": {
          "base_uri": "https://localhost:8080/"
        },
        "id": "R-_pO8dp1Ju2",
        "outputId": "4b251b98-996e-4be6-9fe6-0000121d39b1"
      },
      "execution_count": 1,
      "outputs": [
        {
          "output_type": "stream",
          "name": "stdout",
          "text": [
            "Mounted at /content/drive\n"
          ]
        }
      ]
    },
    {
      "cell_type": "code",
      "source": [
        "!curl -s https://ngrok-agent.s3.amazonaws.com/ngrok.asc | sudo tee /etc/apt/trusted.gpg.d/ngrok.asc >/dev/null && echo \"deb https://ngrok-agent.s3.amazonaws.com buster main\" | sudo tee /etc/apt/sources.list.d/ngrok.list && sudo apt update && sudo apt install ngrok   \n",
        "              "
      ],
      "metadata": {
        "colab": {
          "base_uri": "https://localhost:8080/"
        },
        "id": "oZDrj3awBhUY",
        "outputId": "4e5d54aa-0b3f-4a4a-ba7b-1c2b4ad42da3"
      },
      "execution_count": 2,
      "outputs": [
        {
          "output_type": "stream",
          "name": "stdout",
          "text": [
            "deb https://ngrok-agent.s3.amazonaws.com buster main\n",
            "Get:1 https://cloud.r-project.org/bin/linux/ubuntu bionic-cran40/ InRelease [3,626 B]\n",
            "Ign:2 https://developer.download.nvidia.com/compute/cuda/repos/ubuntu1804/x86_64  InRelease\n",
            "Get:3 http://ppa.launchpad.net/c2d4u.team/c2d4u4.0+/ubuntu bionic InRelease [15.9 kB]\n",
            "Ign:4 https://developer.download.nvidia.com/compute/machine-learning/repos/ubuntu1804/x86_64  InRelease\n",
            "Get:5 http://security.ubuntu.com/ubuntu bionic-security InRelease [88.7 kB]\n",
            "Hit:6 https://developer.download.nvidia.com/compute/cuda/repos/ubuntu1804/x86_64  Release\n",
            "Hit:7 http://archive.ubuntu.com/ubuntu bionic InRelease\n",
            "Hit:8 https://developer.download.nvidia.com/compute/machine-learning/repos/ubuntu1804/x86_64  Release\n",
            "Get:9 https://ngrok-agent.s3.amazonaws.com buster InRelease [7,470 B]\n",
            "Get:10 http://archive.ubuntu.com/ubuntu bionic-updates InRelease [88.7 kB]\n",
            "Hit:12 http://ppa.launchpad.net/cran/libgit2/ubuntu bionic InRelease\n",
            "Get:14 http://ppa.launchpad.net/deadsnakes/ppa/ubuntu bionic InRelease [15.9 kB]\n",
            "Hit:15 http://archive.ubuntu.com/ubuntu bionic-backports InRelease\n",
            "Get:16 https://ngrok-agent.s3.amazonaws.com buster/main amd64 Packages [598 B]\n",
            "Get:17 http://ppa.launchpad.net/graphics-drivers/ppa/ubuntu bionic InRelease [21.3 kB]\n",
            "Get:18 http://security.ubuntu.com/ubuntu bionic-security/main amd64 Packages [2,489 kB]\n",
            "Get:19 http://archive.ubuntu.com/ubuntu bionic-updates/universe amd64 Packages [2,238 kB]\n",
            "Get:20 http://ppa.launchpad.net/c2d4u.team/c2d4u4.0+/ubuntu bionic/main Sources [1,822 kB]\n",
            "Get:21 http://security.ubuntu.com/ubuntu bionic-security/restricted amd64 Packages [716 kB]\n",
            "Get:22 http://security.ubuntu.com/ubuntu bionic-security/multiverse amd64 Packages [26.8 kB]\n",
            "Get:23 http://security.ubuntu.com/ubuntu bionic-security/universe amd64 Packages [1,459 kB]\n",
            "Get:24 http://archive.ubuntu.com/ubuntu bionic-updates/main amd64 Packages [2,929 kB]\n",
            "Get:25 http://archive.ubuntu.com/ubuntu bionic-updates/restricted amd64 Packages [749 kB]\n",
            "Get:26 http://archive.ubuntu.com/ubuntu bionic-updates/multiverse amd64 Packages [34.5 kB]\n",
            "Get:27 http://ppa.launchpad.net/c2d4u.team/c2d4u4.0+/ubuntu bionic/main amd64 Packages [934 kB]\n",
            "Get:28 http://ppa.launchpad.net/deadsnakes/ppa/ubuntu bionic/main amd64 Packages [45.3 kB]\n",
            "Get:29 http://ppa.launchpad.net/graphics-drivers/ppa/ubuntu bionic/main amd64 Packages [44.7 kB]\n",
            "Fetched 13.7 MB in 4s (3,874 kB/s)\n",
            "Reading package lists... Done\n",
            "Building dependency tree       \n",
            "Reading state information... Done\n",
            "59 packages can be upgraded. Run 'apt list --upgradable' to see them.\n",
            "Reading package lists... Done\n",
            "Building dependency tree       \n",
            "Reading state information... Done\n",
            "The following NEW packages will be installed:\n",
            "  ngrok\n",
            "0 upgraded, 1 newly installed, 0 to remove and 59 not upgraded.\n",
            "Need to get 11.7 MB of archives.\n",
            "After this operation, 0 B of additional disk space will be used.\n",
            "Get:1 https://ngrok-agent.s3.amazonaws.com buster/main amd64 ngrok amd64 2.3.40 [11.7 MB]\n",
            "Fetched 11.7 MB in 1s (11.0 MB/s)\n",
            "debconf: unable to initialize frontend: Dialog\n",
            "debconf: (No usable dialog-like program is installed, so the dialog based frontend cannot be used. at /usr/share/perl5/Debconf/FrontEnd/Dialog.pm line 76, <> line 1.)\n",
            "debconf: falling back to frontend: Readline\n",
            "debconf: unable to initialize frontend: Readline\n",
            "debconf: (This frontend requires a controlling tty.)\n",
            "debconf: falling back to frontend: Teletype\n",
            "dpkg-preconfigure: unable to re-open stdin: \n",
            "Selecting previously unselected package ngrok.\n",
            "(Reading database ... 155225 files and directories currently installed.)\n",
            "Preparing to unpack .../ngrok_2.3.40_amd64.deb ...\n",
            "Unpacking ngrok (2.3.40) ...\n",
            "Setting up ngrok (2.3.40) ...\n"
          ]
        }
      ]
    },
    {
      "cell_type": "code",
      "source": [
        "!pip install streamlit -q"
      ],
      "metadata": {
        "id": "iBCA8LNy13ap",
        "colab": {
          "base_uri": "https://localhost:8080/"
        },
        "outputId": "6bb4167b-2810-4102-f7a7-dcd31dca34d2"
      },
      "execution_count": 3,
      "outputs": [
        {
          "output_type": "stream",
          "name": "stdout",
          "text": [
            "\u001b[K     |████████████████████████████████| 9.2 MB 5.3 MB/s \n",
            "\u001b[K     |████████████████████████████████| 4.3 MB 32.4 MB/s \n",
            "\u001b[K     |████████████████████████████████| 111 kB 39.6 MB/s \n",
            "\u001b[K     |████████████████████████████████| 76 kB 4.9 MB/s \n",
            "\u001b[K     |████████████████████████████████| 180 kB 61.2 MB/s \n",
            "\u001b[K     |████████████████████████████████| 164 kB 59.0 MB/s \n",
            "\u001b[K     |████████████████████████████████| 63 kB 1.8 MB/s \n",
            "\u001b[K     |████████████████████████████████| 126 kB 56.8 MB/s \n",
            "\u001b[K     |████████████████████████████████| 792 kB 35.1 MB/s \n",
            "\u001b[K     |████████████████████████████████| 374 kB 51.3 MB/s \n",
            "\u001b[?25h  Building wheel for blinker (setup.py) ... \u001b[?25l\u001b[?25hdone\n",
            "\u001b[31mERROR: pip's dependency resolver does not currently take into account all the packages that are installed. This behaviour is the source of the following dependency conflicts.\n",
            "jupyter-console 5.2.0 requires prompt-toolkit<2.0.0,>=1.0.0, but you have prompt-toolkit 3.0.24 which is incompatible.\n",
            "google-colab 1.0.0 requires ipykernel~=4.10, but you have ipykernel 6.6.1 which is incompatible.\n",
            "google-colab 1.0.0 requires ipython~=5.5.0, but you have ipython 7.31.0 which is incompatible.\u001b[0m\n"
          ]
        }
      ]
    },
    {
      "cell_type": "code",
      "source": [
        "!pip install pyngrok\n"
      ],
      "metadata": {
        "colab": {
          "base_uri": "https://localhost:8080/"
        },
        "id": "MwPdLk-mHsVH",
        "outputId": "5efde9fa-21b0-4350-f3dc-a5a69b3f5daf"
      },
      "execution_count": 4,
      "outputs": [
        {
          "output_type": "stream",
          "name": "stdout",
          "text": [
            "Collecting pyngrok\n",
            "  Downloading pyngrok-5.1.0.tar.gz (745 kB)\n",
            "\u001b[?25l\r\u001b[K     |▍                               | 10 kB 23.4 MB/s eta 0:00:01\r\u001b[K     |▉                               | 20 kB 29.2 MB/s eta 0:00:01\r\u001b[K     |█▎                              | 30 kB 15.4 MB/s eta 0:00:01\r\u001b[K     |█▊                              | 40 kB 11.6 MB/s eta 0:00:01\r\u001b[K     |██▏                             | 51 kB 6.0 MB/s eta 0:00:01\r\u001b[K     |██▋                             | 61 kB 6.3 MB/s eta 0:00:01\r\u001b[K     |███                             | 71 kB 5.7 MB/s eta 0:00:01\r\u001b[K     |███▌                            | 81 kB 6.4 MB/s eta 0:00:01\r\u001b[K     |████                            | 92 kB 6.5 MB/s eta 0:00:01\r\u001b[K     |████▍                           | 102 kB 5.5 MB/s eta 0:00:01\r\u001b[K     |████▉                           | 112 kB 5.5 MB/s eta 0:00:01\r\u001b[K     |█████▎                          | 122 kB 5.5 MB/s eta 0:00:01\r\u001b[K     |█████▊                          | 133 kB 5.5 MB/s eta 0:00:01\r\u001b[K     |██████▏                         | 143 kB 5.5 MB/s eta 0:00:01\r\u001b[K     |██████▋                         | 153 kB 5.5 MB/s eta 0:00:01\r\u001b[K     |███████                         | 163 kB 5.5 MB/s eta 0:00:01\r\u001b[K     |███████▌                        | 174 kB 5.5 MB/s eta 0:00:01\r\u001b[K     |████████                        | 184 kB 5.5 MB/s eta 0:00:01\r\u001b[K     |████████▍                       | 194 kB 5.5 MB/s eta 0:00:01\r\u001b[K     |████████▉                       | 204 kB 5.5 MB/s eta 0:00:01\r\u001b[K     |█████████▎                      | 215 kB 5.5 MB/s eta 0:00:01\r\u001b[K     |█████████▊                      | 225 kB 5.5 MB/s eta 0:00:01\r\u001b[K     |██████████▏                     | 235 kB 5.5 MB/s eta 0:00:01\r\u001b[K     |██████████▌                     | 245 kB 5.5 MB/s eta 0:00:01\r\u001b[K     |███████████                     | 256 kB 5.5 MB/s eta 0:00:01\r\u001b[K     |███████████▍                    | 266 kB 5.5 MB/s eta 0:00:01\r\u001b[K     |███████████▉                    | 276 kB 5.5 MB/s eta 0:00:01\r\u001b[K     |████████████▎                   | 286 kB 5.5 MB/s eta 0:00:01\r\u001b[K     |████████████▊                   | 296 kB 5.5 MB/s eta 0:00:01\r\u001b[K     |█████████████▏                  | 307 kB 5.5 MB/s eta 0:00:01\r\u001b[K     |█████████████▋                  | 317 kB 5.5 MB/s eta 0:00:01\r\u001b[K     |██████████████                  | 327 kB 5.5 MB/s eta 0:00:01\r\u001b[K     |██████████████▌                 | 337 kB 5.5 MB/s eta 0:00:01\r\u001b[K     |███████████████                 | 348 kB 5.5 MB/s eta 0:00:01\r\u001b[K     |███████████████▍                | 358 kB 5.5 MB/s eta 0:00:01\r\u001b[K     |███████████████▉                | 368 kB 5.5 MB/s eta 0:00:01\r\u001b[K     |████████████████▎               | 378 kB 5.5 MB/s eta 0:00:01\r\u001b[K     |████████████████▊               | 389 kB 5.5 MB/s eta 0:00:01\r\u001b[K     |█████████████████▏              | 399 kB 5.5 MB/s eta 0:00:01\r\u001b[K     |█████████████████▋              | 409 kB 5.5 MB/s eta 0:00:01\r\u001b[K     |██████████████████              | 419 kB 5.5 MB/s eta 0:00:01\r\u001b[K     |██████████████████▌             | 430 kB 5.5 MB/s eta 0:00:01\r\u001b[K     |███████████████████             | 440 kB 5.5 MB/s eta 0:00:01\r\u001b[K     |███████████████████▍            | 450 kB 5.5 MB/s eta 0:00:01\r\u001b[K     |███████████████████▉            | 460 kB 5.5 MB/s eta 0:00:01\r\u001b[K     |████████████████████▎           | 471 kB 5.5 MB/s eta 0:00:01\r\u001b[K     |████████████████████▋           | 481 kB 5.5 MB/s eta 0:00:01\r\u001b[K     |█████████████████████           | 491 kB 5.5 MB/s eta 0:00:01\r\u001b[K     |█████████████████████▌          | 501 kB 5.5 MB/s eta 0:00:01\r\u001b[K     |██████████████████████          | 512 kB 5.5 MB/s eta 0:00:01\r\u001b[K     |██████████████████████▍         | 522 kB 5.5 MB/s eta 0:00:01\r\u001b[K     |██████████████████████▉         | 532 kB 5.5 MB/s eta 0:00:01\r\u001b[K     |███████████████████████▎        | 542 kB 5.5 MB/s eta 0:00:01\r\u001b[K     |███████████████████████▊        | 552 kB 5.5 MB/s eta 0:00:01\r\u001b[K     |████████████████████████▏       | 563 kB 5.5 MB/s eta 0:00:01\r\u001b[K     |████████████████████████▋       | 573 kB 5.5 MB/s eta 0:00:01\r\u001b[K     |█████████████████████████       | 583 kB 5.5 MB/s eta 0:00:01\r\u001b[K     |█████████████████████████▌      | 593 kB 5.5 MB/s eta 0:00:01\r\u001b[K     |██████████████████████████      | 604 kB 5.5 MB/s eta 0:00:01\r\u001b[K     |██████████████████████████▍     | 614 kB 5.5 MB/s eta 0:00:01\r\u001b[K     |██████████████████████████▉     | 624 kB 5.5 MB/s eta 0:00:01\r\u001b[K     |███████████████████████████▎    | 634 kB 5.5 MB/s eta 0:00:01\r\u001b[K     |███████████████████████████▊    | 645 kB 5.5 MB/s eta 0:00:01\r\u001b[K     |████████████████████████████▏   | 655 kB 5.5 MB/s eta 0:00:01\r\u001b[K     |████████████████████████████▋   | 665 kB 5.5 MB/s eta 0:00:01\r\u001b[K     |█████████████████████████████   | 675 kB 5.5 MB/s eta 0:00:01\r\u001b[K     |█████████████████████████████▌  | 686 kB 5.5 MB/s eta 0:00:01\r\u001b[K     |██████████████████████████████  | 696 kB 5.5 MB/s eta 0:00:01\r\u001b[K     |██████████████████████████████▍ | 706 kB 5.5 MB/s eta 0:00:01\r\u001b[K     |██████████████████████████████▊ | 716 kB 5.5 MB/s eta 0:00:01\r\u001b[K     |███████████████████████████████▏| 727 kB 5.5 MB/s eta 0:00:01\r\u001b[K     |███████████████████████████████▋| 737 kB 5.5 MB/s eta 0:00:01\r\u001b[K     |████████████████████████████████| 745 kB 5.5 MB/s \n",
            "\u001b[?25hRequirement already satisfied: PyYAML in /usr/local/lib/python3.7/dist-packages (from pyngrok) (3.13)\n",
            "Building wheels for collected packages: pyngrok\n",
            "  Building wheel for pyngrok (setup.py) ... \u001b[?25l\u001b[?25hdone\n",
            "  Created wheel for pyngrok: filename=pyngrok-5.1.0-py3-none-any.whl size=19006 sha256=903cfbf97e32c8a4997c7e5389a895f67a64b08db394efab35516f6b16fae3cc\n",
            "  Stored in directory: /root/.cache/pip/wheels/bf/e6/af/ccf6598ecefecd44104069371795cb9b3afbcd16987f6ccfb3\n",
            "Successfully built pyngrok\n",
            "Installing collected packages: pyngrok\n",
            "Successfully installed pyngrok-5.1.0\n"
          ]
        }
      ]
    },
    {
      "cell_type": "code",
      "source": [
        "!python -V"
      ],
      "metadata": {
        "colab": {
          "base_uri": "https://localhost:8080/"
        },
        "id": "l57uv5sGWEMO",
        "outputId": "621fbeb8-4ea9-4f4c-bafa-261dd1812652"
      },
      "execution_count": 5,
      "outputs": [
        {
          "output_type": "stream",
          "name": "stdout",
          "text": [
            "Python 3.7.12\n"
          ]
        }
      ]
    },
    {
      "cell_type": "code",
      "source": [
        "\n",
        "from datetime import datetime"
      ],
      "metadata": {
        "id": "iK62THSIb6rV"
      },
      "execution_count": 29,
      "outputs": []
    },
    {
      "cell_type": "code",
      "source": [
        "%%writefile app.py\n",
        "import streamlit as st\n",
        "import pandas as pd\n",
        "from sklearn.preprocessing import MinMaxScaler\n",
        "from pandas import read_csv\n",
        "from matplotlib import pyplot\n",
        "import matplotlib.pyplot as plt\n",
        "import tensorflow as tf\n",
        "from keras.models import load_model\n",
        "import numpy as np\n",
        "\n",
        "from tensorflow import keras\n",
        "\n",
        "st.title('Commercial bank Stock Price prediction')\n",
        "st.write('DSCS University of kelaniya')\n",
        "with st.form(\"my_form\"):\n",
        "    \n",
        "    number =  st.number_input('Insert  Low trade price', key ='0' )\n",
        "    number1 = st.number_input('Insert  close price', key  = '1')\n",
        "    number2 = st.number_input('Insert  Opening price', key = '2')\n",
        "    number3 = st.number_input('Insert  No of Trades', key = '3')\n",
        "    number4 = st.number_input('Insert  Volume', key = '4')\n",
        "    number5 = st.number_input('Insert  Trunover', key = '5')\n",
        "    list_enterd = [number,number1,number2,number3,number4,number5]\n",
        "    custom_df = pd.DataFrame(list_enterd).T\n",
        "    custom_df.columns = ['Low', 'Close', 'Open', 'Trades', 'Volume', 'Trunover']\n",
        "    cols =  list(custom_df)\n",
        "    custom_df=custom_df[cols].astype(float)\n",
        "    custom_df_array = np.array(custom_df)\n",
        "    scaler = MinMaxScaler(feature_range=(0, 1))\n",
        "    df_custom_scaled = scaler.fit_transform(custom_df_array)\n",
        "    custom_scaler_list = np.repeat(df_custom_scaled, 14,axis=0)\n",
        "    custom_scaler_list = np.repeat(custom_scaler_list[np.newaxis,:,:],882, axis=0)\n",
        "    custom_scaler_list = np.array(custom_scaler_list)\n",
        "    modelnew = load_model('/content/drive/MyDrive/150 epoch')\n",
        "    list_Custom_prediction = modelnew.predict(custom_scaler_list)\n",
        "    list_forcast_copies_finalize = np.repeat(list_Custom_prediction, 6, axis=-1)\n",
        "    list_predictions_333 = scaler.inverse_transform(list_forcast_copies_finalize)[:,0]\n",
        "    format_float = \"{:.2f}\".format(list_predictions_333[0])\n",
        "    # Every form must have a submit button.\n",
        "    submitted = st.form_submit_button(\"Submit\")\n",
        "if submitted:\n",
        "        \n",
        "    \n",
        "  st.title(\"Maximum trading  prediction price is \",format_float)\n",
        "  html_str = f\"\"\"\n",
        "  <style>\n",
        "  p.a {{\n",
        "   font: bold 35px Courier;\n",
        "  }}\n",
        "  </style>\n",
        "  <p class=\"a\">Rs {format_float}/=</p>\n",
        "  \"\"\"\n",
        "  st.markdown(html_str, unsafe_allow_html=True)"
      ],
      "metadata": {
        "colab": {
          "base_uri": "https://localhost:8080/"
        },
        "id": "yOH7ljqSK1Yr",
        "outputId": "cd6fa9bd-0c61-4cf7-fc95-a4810d01ae8c"
      },
      "execution_count": 67,
      "outputs": [
        {
          "output_type": "stream",
          "name": "stdout",
          "text": [
            "Overwriting app.py\n"
          ]
        }
      ]
    },
    {
      "cell_type": "code",
      "source": [
        "!ls"
      ],
      "metadata": {
        "colab": {
          "base_uri": "https://localhost:8080/"
        },
        "id": "WRkzT650OOe_",
        "outputId": "21483bdf-4db5-4625-d7ac-7136ee90b727"
      },
      "execution_count": 36,
      "outputs": [
        {
          "output_type": "stream",
          "name": "stdout",
          "text": [
            "app.py\tdrive  sample_data\n"
          ]
        }
      ]
    },
    {
      "cell_type": "code",
      "source": [
        "!ngrok authtoken 1zXqF0F0Tk8Sv71VKNOJdgoPHYT_4KRT7SmyRu8SdZeYxX9TZ"
      ],
      "metadata": {
        "colab": {
          "base_uri": "https://localhost:8080/"
        },
        "id": "jI87TlKFQnQ0",
        "outputId": "f04ba399-17ed-4b52-d802-c8e550ff9247"
      },
      "execution_count": 9,
      "outputs": [
        {
          "output_type": "stream",
          "name": "stdout",
          "text": [
            "Authtoken saved to configuration file: /root/.ngrok2/ngrok.yml\n"
          ]
        }
      ]
    },
    {
      "cell_type": "code",
      "source": [
        "from pyngrok import ngrok"
      ],
      "metadata": {
        "id": "UOsJWAgkUM0a"
      },
      "execution_count": 10,
      "outputs": []
    },
    {
      "cell_type": "code",
      "source": [
        "ngrok.kill()"
      ],
      "metadata": {
        "id": "0ljEs88wXZKu"
      },
      "execution_count": 39,
      "outputs": []
    },
    {
      "cell_type": "code",
      "source": [
        "!streamlit run app.py --server.port 80 &>/dev/null&"
      ],
      "metadata": {
        "id": "-oscoK2D52FL"
      },
      "execution_count": 40,
      "outputs": []
    },
    {
      "cell_type": "code",
      "source": [
        "#!streamlit run app.py &>/dev/null&"
      ],
      "metadata": {
        "id": "PYrMxDAW3fww"
      },
      "execution_count": null,
      "outputs": []
    },
    {
      "cell_type": "code",
      "source": [
        "!pgrep streamlit"
      ],
      "metadata": {
        "id": "n0cpp0I0UwdJ",
        "colab": {
          "base_uri": "https://localhost:8080/"
        },
        "outputId": "a89dee22-28a5-4fb9-b37c-6d3e12c0508d"
      },
      "execution_count": 37,
      "outputs": [
        {
          "output_type": "stream",
          "name": "stdout",
          "text": [
            "1330\n"
          ]
        }
      ]
    },
    {
      "cell_type": "code",
      "source": [
        "!kill  1330\n",
        "\n"
      ],
      "metadata": {
        "id": "6zIW5UqbU2FO"
      },
      "execution_count": 38,
      "outputs": []
    },
    {
      "cell_type": "code",
      "source": [
        "# Setup a tunnel to the streamlit port 8501\n",
        "public_url = ngrok.connect(port='8501')\n",
        "\n",
        "public_url"
      ],
      "metadata": {
        "colab": {
          "base_uri": "https://localhost:8080/"
        },
        "id": "GSEz6PCvRhIc",
        "outputId": "afce3df0-3584-41cd-db91-fc67e65204d6"
      },
      "execution_count": 41,
      "outputs": [
        {
          "output_type": "execute_result",
          "data": {
            "text/plain": [
              "<NgrokTunnel: \"http://4537-34-122-96-108.ngrok.io\" -> \"http://localhost:80\">"
            ]
          },
          "metadata": {},
          "execution_count": 41
        }
      ]
    },
    {
      "cell_type": "code",
      "source": [
        ""
      ],
      "metadata": {
        "id": "wYGbUbLITVXN"
      },
      "execution_count": null,
      "outputs": []
    }
  ]
}